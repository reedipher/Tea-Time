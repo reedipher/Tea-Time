{
 "cells": [
  {
   "cell_type": "markdown",
   "metadata": {},
   "source": [
    "# Definitions"
   ]
  },
  {
   "cell_type": "code",
   "execution_count": 33,
   "metadata": {},
   "outputs": [],
   "source": [
    "PAGE = 'https://www.tee-on.com/'"
   ]
  },
  {
   "cell_type": "markdown",
   "metadata": {},
   "source": [
    "# Imports"
   ]
  },
  {
   "cell_type": "code",
   "execution_count": 34,
   "metadata": {},
   "outputs": [],
   "source": [
    "import selenium\n",
    "from bs4 import BeautifulSoup"
   ]
  },
  {
   "cell_type": "markdown",
   "metadata": {},
   "source": [
    "# Setup scraper"
   ]
  },
  {
   "cell_type": "code",
   "execution_count": 35,
   "metadata": {},
   "outputs": [],
   "source": [
    "from selenium import webdriver\n",
    "driver = webdriver.Chrome()"
   ]
  },
  {
   "cell_type": "code",
   "execution_count": 36,
   "metadata": {},
   "outputs": [],
   "source": [
    "driver.get(PAGE)"
   ]
  },
  {
   "cell_type": "markdown",
   "metadata": {},
   "source": [
    "# Scrape"
   ]
  },
  {
   "cell_type": "code",
   "execution_count": 20,
   "metadata": {},
   "outputs": [
    {
     "data": {
      "text/plain": [
       "'<html>\\n<head>\\n<link href=\"/buttons.css?version=5\" media=\"all\" rel=\"stylesheet\" type=\"text/css\" />\\n\\n<script type=\"text/javascript\" src=\"/Scripts/jquery-3.3.1.min.js\"></script>\\n\\n<style type=\"text/css\">\\n#vertical-align-wrapper {\\n  text-align: center;\\n}\\n#vertical-align-wrapper:before {\\n  content: \\'\\';\\n  display: inline-block;\\n  height: 100%;\\n  vertical-align: middle;\\n  margin-right: -0.25em; /* Adjusts for spacing */\\n}\\n.vertical-align-wrapper-cell {\\n  display: inline-block;\\n  vertical-align: middle;\\n  text-align: center;\\n}\\nh3 {\\n  font-family: Arial, Helvetica, sans-serif;\\n  color: #808080;\\n}\\n#ios-msg {\\n  display:none;\\n}\\n\\n</style>\\n<script type=\"text/javascript\">\\nfunction logout()\\n\\n{\\n\\n   var logoutString = getCookie(\\'InFrameQueryString\\');\\n\\n   var parentUrl = getCookie(\\'ReferrerURL\\');\\n\\n   $.ajax({url: \\'/PubGolf/servlet/com.teeon.teesheet.servlets.ajax.SignInStatus?SignOut=true\\', complete: function() {\\n\\n   if (parentUrl && parentUrl.length > 0 && parentUrl != \\'null\\')\\n\\n   {\\n\\n      top.location.href = parentUrl;\\n\\n   }\\n\\n   else \\n   if (logoutString && logoutString.length > 0 && logoutString != \\'null\\')\\n\\n   {\\n\\n      window.location.href = logoutString;\\n\\n   }\\n\\n   else\\n\\n   {\\n\\n      window.location.href=\\'/?CourseCode=\\';\\n\\n   }\\n\\n      }, \\n\\n      timeout: 5000,\\n\\n      cache: false\\n   });\\n\\n}\\n\\n// this fixes an issue with the old method, ambiguous values \\n// with this test document.cookie.indexOf( name + \"=\" );\\nfunction getCookie( check_name ) {\\n   // first we\\'ll split this cookie up into name/value pairs\\n   // note: document.cookie only returns name=value, not the other components\\n   var a_all_cookies = document.cookie.split( \\';\\' );\\n   var a_temp_cookie = \\'\\';\\n   var cookie_name = \\'\\';\\n   var cookie_value = \\'\\';\\n   var b_cookie_found = false; // set boolean t/f default f\\n   \\n   for ( i = 0; i < a_all_cookies.length; i++ )\\n   {\\n      // now we\\'ll split apart each name=value pair\\n      a_temp_cookie = a_all_cookies[i].split( \\'=\\' );\\n      \\n      \\n      // and trim left/right whitespace while we\\'re at it\\n      cookie_name = a_temp_cookie[0].replace(/^\\\\s+|\\\\s+$/g, \\'\\');\\n   \\n      // if the extracted name matches passed check_name\\n      if ( cookie_name == check_name )\\n      {\\n         b_cookie_found = true;\\n         // we need to handle case where cookie has no value but exists (no = sign, that is):\\n         if ( a_temp_cookie.length > 1 )\\n         {\\n            cookie_value = unescape( a_temp_cookie[1].replace(/^\\\\s+|\\\\s+$/g, \\'\\') );\\n         }\\n         // note that in cases where cookie is initialized but no value, null is returned\\n         return cookie_value;\\n         break;\\n      }\\n      a_temp_cookie = null;\\n      cookie_name = \\'\\';\\n   }\\n   if ( !b_cookie_found )\\n   {\\n      return null;\\n   }\\n}\\nfunction reloadPage()\\n{\\n  top.location.href = \"/cookie-test.html?Referrer=\"+encodeURIComponent(referrer);\\n}\\n</script>\\n</head>\\n<body>\\n<div id=\"vertical-align-wrapper\">\\n\\n<div class=\"vertical-align-wrapper-cell\">\\n\\n<h3>It seems that your browser does not allow cookies from websites you have visited. You can <a href=\"javascript:reloadPage();\">click here</a> to try again.</h3>\\n<h3 id=\"ios-msg\"> If you are using an iPad, iPhone or iPod you can <a href=\"javascript:reloadPage();\">click here</a> to try again.</h3>\\n<div><a class=\"anchorbutton gray\" href=\"javascript:logout();\">Continue</a></div>\\n</div>\\n</div>\\n</body>\\n</html>\\n'"
      ]
     },
     "execution_count": 20,
     "metadata": {},
     "output_type": "execute_result"
    }
   ],
   "source": [
    "PAGE = 'https://www.tee-on.com/PubGolf/servlet/com.teeon.teesheet.servlets.golfersection.MemberTeeSheetGolferSection?CourseCode=ROKY&'\n",
    "\n",
    "results = requests.get(PAGE)\n",
    "\n",
    "if (results.status_code != 200):\n",
    "    print('Error getting webpage!')\n",
    "\n",
    "source = results.text\n",
    "source"
   ]
  },
  {
   "cell_type": "code",
   "execution_count": 23,
   "metadata": {},
   "outputs": [
    {
     "data": {
      "text/plain": [
       "'<html>\\n <head>\\n  <link href=\"/buttons.css?version=5\" media=\"all\" rel=\"stylesheet\" type=\"text/css\"/>\\n  <script src=\"/Scripts/jquery-3.3.1.min.js\" type=\"text/javascript\">\\n  </script>\\n  <style type=\"text/css\">\\n   #vertical-align-wrapper {\\n  text-align: center;\\n}\\n#vertical-align-wrapper:before {\\n  content: \\'\\';\\n  display: inline-block;\\n  height: 100%;\\n  vertical-align: middle;\\n  margin-right: -0.25em; /* Adjusts for spacing */\\n}\\n.vertical-align-wrapper-cell {\\n  display: inline-block;\\n  vertical-align: middle;\\n  text-align: center;\\n}\\nh3 {\\n  font-family: Arial, Helvetica, sans-serif;\\n  color: #808080;\\n}\\n#ios-msg {\\n  display:none;\\n}\\n  </style>\\n  <script type=\"text/javascript\">\\n   function logout()\\n\\n{\\n\\n   var logoutString = getCookie(\\'InFrameQueryString\\');\\n\\n   var parentUrl = getCookie(\\'ReferrerURL\\');\\n\\n   $.ajax({url: \\'/PubGolf/servlet/com.teeon.teesheet.servlets.ajax.SignInStatus?SignOut=true\\', complete: function() {\\n\\n   if (parentUrl && parentUrl.length > 0 && parentUrl != \\'null\\')\\n\\n   {\\n\\n      top.location.href = parentUrl;\\n\\n   }\\n\\n   else \\n   if (logoutString && logoutString.length > 0 && logoutString != \\'null\\')\\n\\n   {\\n\\n      window.location.href = logoutString;\\n\\n   }\\n\\n   else\\n\\n   {\\n\\n      window.location.href=\\'/?CourseCode=\\';\\n\\n   }\\n\\n      }, \\n\\n      timeout: 5000,\\n\\n      cache: false\\n   });\\n\\n}\\n\\n// this fixes an issue with the old method, ambiguous values \\n// with this test document.cookie.indexOf( name + \"=\" );\\nfunction getCookie( check_name ) {\\n   // first we\\'ll split this cookie up into name/value pairs\\n   // note: document.cookie only returns name=value, not the other components\\n   var a_all_cookies = document.cookie.split( \\';\\' );\\n   var a_temp_cookie = \\'\\';\\n   var cookie_name = \\'\\';\\n   var cookie_value = \\'\\';\\n   var b_cookie_found = false; // set boolean t/f default f\\n   \\n   for ( i = 0; i < a_all_cookies.length; i++ )\\n   {\\n      // now we\\'ll split apart each name=value pair\\n      a_temp_cookie = a_all_cookies[i].split( \\'=\\' );\\n      \\n      \\n      // and trim left/right whitespace while we\\'re at it\\n      cookie_name = a_temp_cookie[0].replace(/^\\\\s+|\\\\s+$/g, \\'\\');\\n   \\n      // if the extracted name matches passed check_name\\n      if ( cookie_name == check_name )\\n      {\\n         b_cookie_found = true;\\n         // we need to handle case where cookie has no value but exists (no = sign, that is):\\n         if ( a_temp_cookie.length > 1 )\\n         {\\n            cookie_value = unescape( a_temp_cookie[1].replace(/^\\\\s+|\\\\s+$/g, \\'\\') );\\n         }\\n         // note that in cases where cookie is initialized but no value, null is returned\\n         return cookie_value;\\n         break;\\n      }\\n      a_temp_cookie = null;\\n      cookie_name = \\'\\';\\n   }\\n   if ( !b_cookie_found )\\n   {\\n      return null;\\n   }\\n}\\nfunction reloadPage()\\n{\\n  top.location.href = \"/cookie-test.html?Referrer=\"+encodeURIComponent(referrer);\\n}\\n  </script>\\n </head>\\n <body>\\n  <div id=\"vertical-align-wrapper\">\\n   <div class=\"vertical-align-wrapper-cell\">\\n    <h3>\\n     It seems that your browser does not allow cookies from websites you have visited. You can\\n     <a href=\"javascript:reloadPage();\">\\n      click here\\n     </a>\\n     to try again.\\n    </h3>\\n    <h3 id=\"ios-msg\">\\n     If you are using an iPad, iPhone or iPod you can\\n     <a href=\"javascript:reloadPage();\">\\n      click here\\n     </a>\\n     to try again.\\n    </h3>\\n    <div>\\n     <a class=\"anchorbutton gray\" href=\"javascript:logout();\">\\n      Continue\\n     </a>\\n    </div>\\n   </div>\\n  </div>\\n </body>\\n</html>\\n'"
      ]
     },
     "execution_count": 23,
     "metadata": {},
     "output_type": "execute_result"
    }
   ],
   "source": [
    "soup = BeautifulSoup(source, 'html.parser')\n",
    "soup.prettify()"
   ]
  },
  {
   "cell_type": "code",
   "execution_count": 3,
   "metadata": {},
   "outputs": [
    {
     "name": "stdout",
     "output_type": "stream",
     "text": [
      "7:15\n"
     ]
    }
   ],
   "source": [
    "def reformatTeeTime(time):\n",
    "    print(time)\n",
    "    \n",
    "reformatTeeTime('7:15')"
   ]
  },
  {
   "cell_type": "code",
   "execution_count": null,
   "metadata": {},
   "outputs": [],
   "source": []
  }
 ],
 "metadata": {
  "kernelspec": {
   "display_name": "Python 3",
   "language": "python",
   "name": "python3"
  },
  "language_info": {
   "codemirror_mode": {
    "name": "ipython",
    "version": 3
   },
   "file_extension": ".py",
   "mimetype": "text/x-python",
   "name": "python",
   "nbconvert_exporter": "python",
   "pygments_lexer": "ipython3",
   "version": "3.7.6"
  }
 },
 "nbformat": 4,
 "nbformat_minor": 4
}
